{
 "cells": [
  {
   "cell_type": "markdown",
   "metadata": {},
   "source": [
    "## Descripion\n",
    "This notebook contains the code used to classify CL using features obtained from three time interaval of the encoding stage.\n",
    "Encoding stage was divided into three equal time intervals, and in each interval theta, alpha, and beta band PSD features were extracted. \n",
    "Random Forest, SVM, and KNN classifiers were employed for classification.\n",
    "Since classfication models and procedure are the same in all three interval, I only included results from the first interval in this notebook"
   ]
  },
  {
   "cell_type": "code",
   "execution_count": 1,
   "metadata": {},
   "outputs": [],
   "source": [
    "import pandas as pd\n",
    "import numpy as np\n",
    "from sklearn.model_selection import train_test_split\n",
    "from sklearn.svm import SVC \n",
    "from sklearn.preprocessing import MinMaxScaler\n",
    "from sklearn.preprocessing import StandardScaler\n",
    "from sklearn.metrics import classification_report, confusion_matrix, f1_score,accuracy_score\n",
    "from numpy import load\n",
    "import mne\n",
    "from sklearn.decomposition import PCA\n",
    "from sklearn.svm import SVC\n",
    "from sklearn.pipeline import Pipeline\n",
    "from sklearn.model_selection import GridSearchCV\n",
    "from sklearn.neighbors import KNeighborsClassifier\n",
    "from sklearn.ensemble import RandomForestClassifier,BaggingClassifier\n"
   ]
  },
  {
   "cell_type": "markdown",
   "metadata": {},
   "source": [
    "# First interval results"
   ]
  },
  {
   "cell_type": "markdown",
   "metadata": {},
   "source": [
    "##  Classification with Alpha PSD features"
   ]
  },
  {
   "cell_type": "code",
   "execution_count": null,
   "metadata": {},
   "outputs": [],
   "source": []
  },
  {
   "cell_type": "code",
   "execution_count": 2,
   "metadata": {},
   "outputs": [],
   "source": [
    "data_alpha1= pd.read_csv(r\"C:\\Users\\Felix\\Documents\\Summer 2020\\Research_summer\\Full datasetML\\Time_segmented_topomaps+CSV\\First interval\\alpha_data_T1.csv\",header=None)\n",
    "labels=pd.read_csv(r\"C:\\Users\\Felix\\Documents\\Summer 2020\\Research_summer\\Full datasetML\\All_Cl_labels.csv\")\n",
    "labels=np.ravel(labels)\n",
    "scaler= MinMaxScaler()\n",
    "data_alpha1=pd.DataFrame(MinMaxScaler().fit_transform(data_alpha1))\n",
    "x_train, x_test, y_train, y_test = train_test_split(data_alpha1, labels, test_size=0.30)\n"
   ]
  },
  {
   "cell_type": "markdown",
   "metadata": {},
   "source": [
    "### Classification models\n",
    "Below hyperparamters for SVM (svm),KNN(knn), and Random Forest(rf) were obtained from gridsearch ( See PCA notebook)"
   ]
  },
  {
   "cell_type": "code",
   "execution_count": null,
   "metadata": {},
   "outputs": [],
   "source": []
  },
  {
   "cell_type": "code",
   "execution_count": 3,
   "metadata": {},
   "outputs": [],
   "source": [
    "svm=SVC(C=100, break_ties=False, cache_size=200, class_weight=None, coef0=0.0,\n",
    "    decision_function_shape='ovr', degree=3, gamma=1, kernel='rbf', max_iter=-1,\n",
    "    probability=False, random_state=None, shrinking=True, tol=0.001,\n",
    "    verbose=False)\n",
    "\n",
    "knn=KNeighborsClassifier(algorithm='auto', leaf_size=30, metric='minkowski',\n",
    "                     metric_params=None, n_jobs=None, n_neighbors=13, p=2,\n",
    "                     weights='uniform')\n",
    "\n",
    "rf=RandomForestClassifier(bootstrap=True, ccp_alpha=0.0, class_weight=None,\n",
    "                       criterion='gini', max_depth=80, max_features=3,\n",
    "                       max_leaf_nodes=None, max_samples=None,\n",
    "                       min_impurity_decrease=0.0, min_impurity_split=None,\n",
    "                       min_samples_leaf=3, min_samples_split=8,\n",
    "                       min_weight_fraction_leaf=0.0, n_estimators=1000,\n",
    "                       n_jobs=None, oob_score=False, random_state=None,\n",
    "                       verbose=0, warm_start=False)\n"
   ]
  },
  {
   "cell_type": "markdown",
   "metadata": {},
   "source": [
    "#### Classification results for Alpha"
   ]
  },
  {
   "cell_type": "code",
   "execution_count": 4,
   "metadata": {},
   "outputs": [
    {
     "name": "stdout",
     "output_type": "stream",
     "text": [
      "Interval 1 alpha\n",
      "accuracy_svm = 0.6388636363636364\n",
      "accuracy_knn = 0.7318939393939394\n",
      "accuracy_rf = 0.7660606060606061\n"
     ]
    }
   ],
   "source": [
    "svm.fit(x_train,y_train)\n",
    "knn.fit(x_train,y_train)\n",
    "rf.fit(x_train,y_train)\n",
    "accuracy_svm=(accuracy_score(y_test,svm.predict(x_test)))\n",
    "accuracy_knn=(accuracy_score(y_test,knn.predict(x_test)))\n",
    "accuracy_rf=(accuracy_score(y_test,rf.predict(x_test)))\n",
    "print(\"Interval 1 alpha\")\n",
    "print(\"accuracy_svm =\",accuracy_svm)\n",
    "print(\"accuracy_knn =\",accuracy_knn)\n",
    "print(\"accuracy_rf =\",accuracy_rf)"
   ]
  },
  {
   "cell_type": "code",
   "execution_count": null,
   "metadata": {},
   "outputs": [],
   "source": []
  },
  {
   "cell_type": "markdown",
   "metadata": {},
   "source": [
    "#### Classification results for theta band "
   ]
  },
  {
   "cell_type": "code",
   "execution_count": 5,
   "metadata": {},
   "outputs": [
    {
     "name": "stdout",
     "output_type": "stream",
     "text": [
      "Interval 1 theta\n",
      "accuracy_svm = 0.5282575757575757\n",
      "accuracy_knn = 0.6134848484848485\n",
      "accuracy_rf = 0.7856818181818181\n"
     ]
    }
   ],
   "source": [
    "data_theta1= pd.read_csv(r\"C:\\Users\\Felix\\Documents\\Summer 2020\\Research_summer\\Full datasetML\\Time_segmented_topomaps+CSV\\First interval\\thetha_data_T1.csv\",header=None)\n",
    "labels=pd.read_csv(r\"C:\\Users\\Felix\\Documents\\Summer 2020\\Research_summer\\Full datasetML\\All_Cl_labels.csv\")\n",
    "labels=np.ravel(labels)\n",
    "scaler= MinMaxScaler()\n",
    "data_theta1=pd.DataFrame(MinMaxScaler().fit_transform(data_theta1))\n",
    "x_train, x_test, y_train, y_test = train_test_split(data_theta1, labels, test_size=0.30)\n",
    "\n",
    "svm.fit(x_train,y_train)\n",
    "knn.fit(x_train,y_train)\n",
    "rf.fit(x_train,y_train)\n",
    "accuracy_svm=(accuracy_score(y_test,svm.predict(x_test)))\n",
    "accuracy_knn=(accuracy_score(y_test,knn.predict(x_test)))\n",
    "accuracy_rf=(accuracy_score(y_test,rf.predict(x_test)))\n",
    "print(\"Interval 1 theta\")\n",
    "print(\"accuracy_svm =\",accuracy_svm)\n",
    "print(\"accuracy_knn =\",accuracy_knn)\n",
    "print(\"accuracy_rf =\",accuracy_rf)\n"
   ]
  },
  {
   "cell_type": "markdown",
   "metadata": {},
   "source": [
    "#### Classification results for Beta band"
   ]
  },
  {
   "cell_type": "code",
   "execution_count": 6,
   "metadata": {},
   "outputs": [
    {
     "name": "stdout",
     "output_type": "stream",
     "text": [
      "Interval 1 beta\n",
      "accuracy_svm = 0.7743939393939394\n",
      "accuracy_knn = 0.7353787878787879\n",
      "accuracy_rf = 0.8216666666666667\n"
     ]
    }
   ],
   "source": [
    "data_beta1= pd.read_csv(r\"C:\\Users\\Felix\\Documents\\Summer 2020\\Research_summer\\Full datasetML\\Time_segmented_topomaps+CSV\\First interval\\beta_data_T1.csv\",header=None)\n",
    "labels=pd.read_csv(r\"C:\\Users\\Felix\\Documents\\Summer 2020\\Research_summer\\Full datasetML\\All_Cl_labels.csv\")\n",
    "labels=np.ravel(labels)\n",
    "scaler= MinMaxScaler()\n",
    "data_beta1=pd.DataFrame(MinMaxScaler().fit_transform(data_beta1))\n",
    "x_train, x_test, y_train, y_test = train_test_split(data_beta1, labels, test_size=0.30)\n",
    "\n",
    "svm.fit(x_train,y_train)\n",
    "knn.fit(x_train,y_train)\n",
    "rf.fit(x_train,y_train)\n",
    "accuracy_svm=(accuracy_score(y_test,svm.predict(x_test)))\n",
    "accuracy_knn=(accuracy_score(y_test,knn.predict(x_test)))\n",
    "accuracy_rf=(accuracy_score(y_test,rf.predict(x_test)))\n",
    "print(\"Interval 1 beta\")\n",
    "print(\"accuracy_svm =\",accuracy_svm)\n",
    "print(\"accuracy_knn =\",accuracy_knn)\n",
    "print(\"accuracy_rf =\",accuracy_rf)"
   ]
  }
 ],
 "metadata": {
  "kernelspec": {
   "display_name": "Python 3",
   "language": "python",
   "name": "python3"
  },
  "language_info": {
   "codemirror_mode": {
    "name": "ipython",
    "version": 3
   },
   "file_extension": ".py",
   "mimetype": "text/x-python",
   "name": "python",
   "nbconvert_exporter": "python",
   "pygments_lexer": "ipython3",
   "version": "3.7.6"
  }
 },
 "nbformat": 4,
 "nbformat_minor": 4
}
