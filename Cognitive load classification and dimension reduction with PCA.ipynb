{
 "cells": [
  {
   "cell_type": "markdown",
   "metadata": {},
   "source": [
    "## Description\n",
    "This Notebook contains the code used to classify four levels of cognitive load using feature obtained from the entire period\n",
    "of WM encoding stage. The models used are KNN, Random forest, and SVM. Grid search was used to optimize the model. Dimension analysis was done by applying PCA on the data "
   ]
  },
  {
   "cell_type": "code",
   "execution_count": 1,
   "metadata": {},
   "outputs": [],
   "source": [
    "import pandas as pd\n",
    "import numpy as np\n",
    "from sklearn.model_selection import train_test_split\n",
    "from sklearn.svm import SVC \n",
    "from sklearn.preprocessing import MinMaxScaler\n",
    "from sklearn.preprocessing import StandardScaler\n",
    "from sklearn.metrics import classification_report, confusion_matrix, f1_score,accuracy_score\n",
    "from numpy import load\n",
    "import mne\n",
    "from sklearn.decomposition import PCA\n",
    "from sklearn.svm import SVC\n",
    "from sklearn.pipeline import Pipeline\n",
    "from sklearn.model_selection import GridSearchCV\n"
   ]
  },
  {
   "cell_type": "markdown",
   "metadata": {},
   "source": [
    "## Importing our data\n",
    "our datasets include PSD data from theta, alpha, and beta bands well as PSD from horizontal stak of these frequency bands"
   ]
  },
  {
   "cell_type": "code",
   "execution_count": 3,
   "metadata": {},
   "outputs": [],
   "source": [
    "data_stack=pd.read_csv(r\"C:\\Users\\Felix\\Documents\\Summer 2020\\Research_summer\\Full datasetML\\Time_segmented\\First interval\\stack_data.csv\",header=None)\n",
    "data_thetha=pd.read_csv(r\"C:\\Users\\Felix\\Documents\\Summer 2020\\Research_summer\\Full datasetML\\thetha_data_NO_20.csv\",header=None)\n",
    "data_alpha=pd.read_csv(r\"C:\\Users\\Felix\\Documents\\Summer 2020\\Research_summer\\Full datasetML\\alpha_data_NO_20.csv\",header=None)\n",
    "data_beta=pd.read_csv(r\"C:\\Users\\Felix\\Documents\\Summer 2020\\Research_summer\\Full datasetML\\beta_data_NO_20.csv\",header=None)\n",
    "labels=pd.read_csv(r\"C:\\Users\\Felix\\Documents\\Summer 2020\\Research_summer\\Full datasetML\\All_Cl_labels.csv\")\n",
    "labels=np.ravel(labels)\n",
    "scaler= MinMaxScaler()\n",
    "## Scaling our data\n",
    "data_stack=pd.DataFrame(MinMaxScaler().fit_transform(data_stack))\n",
    "data_thetha=pd.DataFrame(MinMaxScaler().fit_transform(data_thetha))\n",
    "data_alpha=pd.DataFrame(MinMaxScaler().fit_transform(data_alpha))\n",
    "data_beta=pd.DataFrame(MinMaxScaler().fit_transform(data_beta))\n"
   ]
  },
  {
   "cell_type": "markdown",
   "metadata": {},
   "source": [
    "### KNN model optimization with gridsearch\n",
    "CL classfication results from the best model is shown"
   ]
  },
  {
   "cell_type": "code",
   "execution_count": 13,
   "metadata": {},
   "outputs": [
    {
     "name": "stdout",
     "output_type": "stream",
     "text": [
      "Fitting 5 folds for each of 99 candidates, totalling 495 fits\n"
     ]
    },
    {
     "name": "stderr",
     "output_type": "stream",
     "text": [
      "[Parallel(n_jobs=-1)]: Using backend LokyBackend with 16 concurrent workers.\n",
      "[Parallel(n_jobs=-1)]: Done   9 tasks      | elapsed:  3.4min\n",
      "[Parallel(n_jobs=-1)]: Done 130 tasks      | elapsed: 33.2min\n",
      "[Parallel(n_jobs=-1)]: Done 333 tasks      | elapsed: 84.8min\n",
      "[Parallel(n_jobs=-1)]: Done 495 out of 495 | elapsed: 128.1min finished\n"
     ]
    },
    {
     "name": "stdout",
     "output_type": "stream",
     "text": [
      "knn_192 model:\n",
      " KNeighborsClassifier(algorithm='auto', leaf_size=30, metric='minkowski',\n",
      "                     metric_params=None, n_jobs=None, n_neighbors=13, p=2,\n",
      "                     weights='uniform')\n",
      "              precision    recall  f1-score   support\n",
      "\n",
      "           1       0.84      0.89      0.86      2185\n",
      "           2       0.86      0.87      0.86      2199\n",
      "           3       0.87      0.87      0.87      2194\n",
      "           4       0.88      0.83      0.86      2222\n",
      "\n",
      "    accuracy                           0.86      8800\n",
      "   macro avg       0.86      0.86      0.86      8800\n",
      "weighted avg       0.86      0.86      0.86      8800\n",
      "\n"
     ]
    }
   ],
   "source": [
    "## Grid search for KNN\n",
    "from sklearn.model_selection import GridSearchCV\n",
    "from sklearn.neighbors import KNeighborsClassifier\n",
    "x_train, x_test, y_train, y_test = train_test_split(data_stack, labels, test_size=0.20)\n",
    "param_grid= {\"n_neighbors\":range(1,100)}\n",
    "grid=GridSearchCV(KNeighborsClassifier(),param_grid,refit=True,cv=5, verbose=2,n_jobs=-1)\n",
    "grid.fit(x_train, y_train)\n",
    "modelknn_192=grid.best_estimator_\n",
    "print(\"knn_192 model:\\n\",modelknn_192)\n",
    "modelknn_192.fit(x_train,y_train)\n",
    "\n",
    "y_pred=modelknn_192.predict(x_test)\n",
    "\n",
    "F1=classification_report(y_test,y_pred)\n",
    "print(F1)"
   ]
  },
  {
   "cell_type": "markdown",
   "metadata": {},
   "source": [
    "### Gridsearch random forest\n",
    "1. Individual frquency bands"
   ]
  },
  {
   "cell_type": "code",
   "execution_count": 14,
   "metadata": {
    "scrolled": true
   },
   "outputs": [
    {
     "name": "stdout",
     "output_type": "stream",
     "text": [
      "Fitting 5 folds for each of 288 candidates, totalling 1440 fits\n"
     ]
    },
    {
     "name": "stderr",
     "output_type": "stream",
     "text": [
      "[Parallel(n_jobs=-1)]: Using backend LokyBackend with 16 concurrent workers.\n",
      "[Parallel(n_jobs=-1)]: Done   9 tasks      | elapsed:   36.3s\n",
      "[Parallel(n_jobs=-1)]: Done 130 tasks      | elapsed:  9.0min\n",
      "[Parallel(n_jobs=-1)]: Done 333 tasks      | elapsed: 27.1min\n",
      "[Parallel(n_jobs=-1)]: Done 616 tasks      | elapsed: 49.5min\n",
      "[Parallel(n_jobs=-1)]: Done 981 tasks      | elapsed: 79.7min\n",
      "[Parallel(n_jobs=-1)]: Done 1440 out of 1440 | elapsed: 119.9min finished\n"
     ]
    },
    {
     "name": "stdout",
     "output_type": "stream",
     "text": [
      "rf_64 model:\n",
      " RandomForestClassifier(bootstrap=True, ccp_alpha=0.0, class_weight=None,\n",
      "                       criterion='gini', max_depth=100, max_features=3,\n",
      "                       max_leaf_nodes=None, max_samples=None,\n",
      "                       min_impurity_decrease=0.0, min_impurity_split=None,\n",
      "                       min_samples_leaf=3, min_samples_split=8,\n",
      "                       min_weight_fraction_leaf=0.0, n_estimators=1000,\n",
      "                       n_jobs=None, oob_score=False, random_state=None,\n",
      "                       verbose=0, warm_start=False)\n",
      "              precision    recall  f1-score   support\n",
      "\n",
      "           1       0.85      0.82      0.83      2179\n",
      "           2       0.83      0.84      0.84      2227\n",
      "           3       0.85      0.85      0.85      2194\n",
      "           4       0.82      0.84      0.83      2200\n",
      "\n",
      "    accuracy                           0.84      8800\n",
      "   macro avg       0.84      0.84      0.84      8800\n",
      "weighted avg       0.84      0.84      0.84      8800\n",
      "\n"
     ]
    }
   ],
   "source": [
    "from sklearn.ensemble import RandomForestClassifier,BaggingClassifier\n",
    "from sklearn.model_selection import GridSearchCV\n",
    "x_train, x_test, y_train, y_test = train_test_split(data_beta, labels, test_size=0.20)\n",
    "# Create the \n",
    "# Create the parameter grid based on the results of random search \n",
    "param_grid = {\n",
    "    'bootstrap': [True],\n",
    "    'max_depth': [80, 90, 100, 110],\n",
    "    'max_features': [2, 3],\n",
    "    'min_samples_leaf': [3, 4, 5],\n",
    "    'min_samples_split': [8, 10, 12],\n",
    "    'n_estimators': [100, 200, 300, 1000]\n",
    "}\n",
    "# Create a based model\n",
    "rf = RandomForestClassifier()\n",
    "# Instantiate the grid search model\n",
    "grid= GridSearchCV(estimator = rf, param_grid = param_grid,\n",
    "                          cv = 5, n_jobs = -1, verbose = 2)\n",
    "grid.fit(x_train,y_train)\n",
    "modelrf_64=grid.best_estimator_\n",
    "print(\"rf_64 model:\\n\",modelrf_64)\n",
    "modelrf_64.fit(x_train,y_train)\n",
    "\n",
    "y_pred=modelrf_64.predict(x_test)\n",
    "\n",
    "F1=classification_report(y_test,y_pred)\n",
    "print(F1)\n"
   ]
  },
  {
   "cell_type": "markdown",
   "metadata": {},
   "source": [
    "### Grid Search for Random forest\n",
    "2. Stacked band powers"
   ]
  },
  {
   "cell_type": "code",
   "execution_count": 15,
   "metadata": {},
   "outputs": [
    {
     "name": "stdout",
     "output_type": "stream",
     "text": [
      "Fitting 5 folds for each of 288 candidates, totalling 1440 fits\n"
     ]
    },
    {
     "name": "stderr",
     "output_type": "stream",
     "text": [
      "[Parallel(n_jobs=-1)]: Using backend LokyBackend with 16 concurrent workers.\n",
      "[Parallel(n_jobs=-1)]: Done   9 tasks      | elapsed:   34.8s\n",
      "[Parallel(n_jobs=-1)]: Done 130 tasks      | elapsed:  8.4min\n",
      "[Parallel(n_jobs=-1)]: Done 333 tasks      | elapsed: 25.7min\n",
      "[Parallel(n_jobs=-1)]: Done 616 tasks      | elapsed: 47.5min\n",
      "[Parallel(n_jobs=-1)]: Done 981 tasks      | elapsed: 76.3min\n",
      "[Parallel(n_jobs=-1)]: Done 1440 out of 1440 | elapsed: 115.3min finished\n"
     ]
    },
    {
     "name": "stdout",
     "output_type": "stream",
     "text": [
      "rf_64 model:\n",
      " RandomForestClassifier(bootstrap=True, ccp_alpha=0.0, class_weight=None,\n",
      "                       criterion='gini', max_depth=80, max_features=3,\n",
      "                       max_leaf_nodes=None, max_samples=None,\n",
      "                       min_impurity_decrease=0.0, min_impurity_split=None,\n",
      "                       min_samples_leaf=3, min_samples_split=8,\n",
      "                       min_weight_fraction_leaf=0.0, n_estimators=1000,\n",
      "                       n_jobs=None, oob_score=False, random_state=None,\n",
      "                       verbose=0, warm_start=False)\n",
      "              precision    recall  f1-score   support\n",
      "\n",
      "           1       0.91      0.91      0.91      2249\n",
      "           2       0.90      0.90      0.90      2204\n",
      "           3       0.91      0.89      0.90      2204\n",
      "           4       0.90      0.91      0.91      2143\n",
      "\n",
      "    accuracy                           0.91      8800\n",
      "   macro avg       0.91      0.91      0.91      8800\n",
      "weighted avg       0.91      0.91      0.91      8800\n",
      "\n"
     ]
    }
   ],
   "source": [
    "from sklearn.ensemble import RandomForestClassifier,BaggingClassifier\n",
    "from sklearn.model_selection import GridSearchCV\n",
    "x_train, x_test, y_train, y_test = train_test_split(data_stack, labels, test_size=0.20)\n",
    "# Create the \n",
    "# Create the parameter grid based on the results of random search \n",
    "param_grid = {\n",
    "    'bootstrap': [True],\n",
    "    'max_depth': [80, 90, 100, 110],\n",
    "    'max_features': [2, 3],\n",
    "    'min_samples_leaf': [3, 4, 5],\n",
    "    'min_samples_split': [8, 10, 12],\n",
    "    'n_estimators': [100, 200, 300, 1000]\n",
    "}\n",
    "# Create a based model\n",
    "rf = RandomForestClassifier()\n",
    "# Instantiate the grid search model\n",
    "grid= GridSearchCV(estimator = rf, param_grid = param_grid,\n",
    "                          cv = 5, n_jobs = -1, verbose = 2)\n",
    "grid.fit(x_train,y_train)\n",
    "modelrf_192=grid.best_estimator_\n",
    "print(\"rf_64 model:\\n\",modelrf_192)\n",
    "modelrf_192.fit(x_train,y_train)\n",
    "\n",
    "y_pred=modelrf_192.predict(x_test)\n",
    "\n",
    "F1=classification_report(y_test,y_pred)\n",
    "print(F1)\n"
   ]
  },
  {
   "cell_type": "markdown",
   "metadata": {},
   "source": [
    "## Grid search for SVM"
   ]
  },
  {
   "cell_type": "code",
   "execution_count": 26,
   "metadata": {},
   "outputs": [
    {
     "name": "stdout",
     "output_type": "stream",
     "text": [
      "Fitting 5 folds for each of 60 candidates, totalling 300 fits\n"
     ]
    },
    {
     "name": "stderr",
     "output_type": "stream",
     "text": [
      "[Parallel(n_jobs=-1)]: Using backend LokyBackend with 16 concurrent workers.\n",
      "[Parallel(n_jobs=-1)]: Done   9 tasks      | elapsed: 41.1min\n",
      "[Parallel(n_jobs=-1)]: Done 130 tasks      | elapsed: 326.6min\n",
      "[Parallel(n_jobs=-1)]: Done 300 out of 300 | elapsed: 592.5min finished\n"
     ]
    },
    {
     "name": "stdout",
     "output_type": "stream",
     "text": [
      "              precision    recall  f1-score   support\n",
      "\n",
      "           1       0.93      0.94      0.94      2228\n",
      "           2       0.94      0.94      0.94      2179\n",
      "           3       0.93      0.93      0.93      2262\n",
      "           4       0.95      0.94      0.94      2131\n",
      "\n",
      "    accuracy                           0.94      8800\n",
      "   macro avg       0.94      0.94      0.94      8800\n",
      "weighted avg       0.94      0.94      0.94      8800\n",
      "\n",
      "0.9384090909090909\n"
     ]
    }
   ],
   "source": [
    "x_train_15, x_test_15, y_train_15, y_test_15 = train_test_split(data_stack, labels, test_size=0.20)\n",
    "param_grid= {\"C\":[0.001,0.1,1,10,100],\"gamma\":[1,0.5,0.1,0.01],\n",
    "            \"kernel\":[\"rbf\",\"linear\",\"poly\"]}\n",
    "grid=GridSearchCV(SVC(),param_grid,refit=True,verbose=2,n_jobs=-1)\n",
    "grid.fit(x_train_15, y_train_15)\n",
    "y_pred_15=grid.predict(x_test_15)\n",
    "print(classification_report(y_test_15,y_pred_15))\n",
    "print(accuracy_score(y_test_15,y_pred_15))"
   ]
  },
  {
   "cell_type": "markdown",
   "metadata": {},
   "source": [
    "## PCA and Dimension reduction results\n",
    "The following codes show the classfication results when PCA with different number of components is applied to our dataset."
   ]
  },
  {
   "cell_type": "code",
   "execution_count": 18,
   "metadata": {},
   "outputs": [],
   "source": [
    "def pca_modeling(data,n_features,model):\n",
    "    data_new=PCA(n_features).fit_transform(data)\n",
    "    x_train, x_test, y_train, y_test = train_test_split(data_new, labels, test_size=0.20)\n",
    "    model.fit(x_train,y_train)\n",
    "    y_pred=model.predict(x_test)\n",
    "    return classification_report(y_test,y_pred)\n",
    "         "
   ]
  },
  {
   "cell_type": "markdown",
   "metadata": {},
   "source": [
    "### PCA on thetha band PSD for SVM classfier"
   ]
  },
  {
   "cell_type": "code",
   "execution_count": null,
   "metadata": {},
   "outputs": [],
   "source": [
    "\n",
    "svm= model=SVC(C=10000, break_ties=False, cache_size=200, class_weight=None, coef0=0.0,\n",
    "    decision_function_shape='ovr', degree=3, gamma=1, kernel='rbf', max_iter=-1,\n",
    "    probability=False, random_state=None, shrinking=True, tol=0.001,\n",
    "    verbose=False)\n",
    "F1_SVM5=pca_modeling(data_alpha,5,svm)\n",
    "F1_SVM16=pca_modeling(data_alpha,16,svm)\n",
    "F1_SVM32=pca_modeling(data_alpha,32,svm)\n",
    "F1_SVM50=pca_modeling(data_alpha,50,svm)\n",
    "F1_SVM64=pca_modeling(data_alpha,64,svm)\n",
    "print(F1_SVM5,F1_SVM16,F1_SVM32,F1_SVM50,F1_SVM64)"
   ]
  },
  {
   "cell_type": "code",
   "execution_count": 20,
   "metadata": {},
   "outputs": [
    {
     "name": "stdout",
     "output_type": "stream",
     "text": [
      "              precision    recall  f1-score   support\n",
      "\n",
      "           1       0.38      0.44      0.41      2194\n",
      "           2       0.36      0.38      0.37      2177\n",
      "           3       0.40      0.44      0.42      2216\n",
      "           4       0.46      0.30      0.36      2213\n",
      "\n",
      "    accuracy                           0.39      8800\n",
      "   macro avg       0.40      0.39      0.39      8800\n",
      "weighted avg       0.40      0.39      0.39      8800\n",
      "               precision    recall  f1-score   support\n",
      "\n",
      "           1       0.54      0.66      0.59      2173\n",
      "           2       0.60      0.63      0.62      2178\n",
      "           3       0.68      0.55      0.61      2180\n",
      "           4       0.63      0.57      0.60      2269\n",
      "\n",
      "    accuracy                           0.60      8800\n",
      "   macro avg       0.61      0.60      0.60      8800\n",
      "weighted avg       0.61      0.60      0.60      8800\n",
      "               precision    recall  f1-score   support\n",
      "\n",
      "           1       0.69      0.78      0.73      2237\n",
      "           2       0.75      0.76      0.76      2191\n",
      "           3       0.80      0.72      0.76      2223\n",
      "           4       0.74      0.72      0.73      2149\n",
      "\n",
      "    accuracy                           0.74      8800\n",
      "   macro avg       0.75      0.74      0.74      8800\n",
      "weighted avg       0.75      0.74      0.74      8800\n",
      "               precision    recall  f1-score   support\n",
      "\n",
      "           1       0.79      0.79      0.79      2158\n",
      "           2       0.82      0.82      0.82      2200\n",
      "           3       0.78      0.82      0.80      2214\n",
      "           4       0.84      0.79      0.81      2228\n",
      "\n",
      "    accuracy                           0.80      8800\n",
      "   macro avg       0.80      0.80      0.80      8800\n",
      "weighted avg       0.80      0.80      0.80      8800\n",
      "               precision    recall  f1-score   support\n",
      "\n",
      "           1       0.81      0.85      0.83      2188\n",
      "           2       0.84      0.83      0.84      2230\n",
      "           3       0.82      0.81      0.81      2231\n",
      "           4       0.83      0.81      0.82      2151\n",
      "\n",
      "    accuracy                           0.83      8800\n",
      "   macro avg       0.83      0.83      0.83      8800\n",
      "weighted avg       0.83      0.83      0.83      8800\n",
      "\n"
     ]
    }
   ],
   "source": [
    "F1_SVM5=pca_modeling(data_thetha,5,svm)\n",
    "F1_SVM16=pca_modeling(data_thetha,16,svm)\n",
    "F1_SVM32=pca_modeling(data_thetha,32,svm)\n",
    "F1_SVM50=pca_modeling(data_thetha,50,svm)\n",
    "F1_SVM64=pca_modeling(data_thetha,64,svm)\n",
    "print(F1_SVM5,F1_SVM16,F1_SVM32,F1_SVM50,F1_SVM64)"
   ]
  },
  {
   "cell_type": "markdown",
   "metadata": {},
   "source": [
    "## PCA on Theta band PSD for KNN classifier"
   ]
  },
  {
   "cell_type": "code",
   "execution_count": 21,
   "metadata": {},
   "outputs": [
    {
     "name": "stdout",
     "output_type": "stream",
     "text": [
      "              precision    recall  f1-score   support\n",
      "\n",
      "           1       0.41      0.47      0.44      2167\n",
      "           2       0.43      0.45      0.44      2261\n",
      "           3       0.46      0.42      0.44      2203\n",
      "           4       0.47      0.42      0.44      2169\n",
      "\n",
      "    accuracy                           0.44      8800\n",
      "   macro avg       0.44      0.44      0.44      8800\n",
      "weighted avg       0.44      0.44      0.44      8800\n",
      "               precision    recall  f1-score   support\n",
      "\n",
      "           1       0.62      0.64      0.63      2203\n",
      "           2       0.63      0.68      0.66      2200\n",
      "           3       0.65      0.64      0.64      2217\n",
      "           4       0.66      0.60      0.63      2180\n",
      "\n",
      "    accuracy                           0.64      8800\n",
      "   macro avg       0.64      0.64      0.64      8800\n",
      "weighted avg       0.64      0.64      0.64      8800\n",
      "               precision    recall  f1-score   support\n",
      "\n",
      "           1       0.70      0.75      0.72      2183\n",
      "           2       0.73      0.76      0.75      2220\n",
      "           3       0.73      0.71      0.72      2228\n",
      "           4       0.75      0.68      0.71      2169\n",
      "\n",
      "    accuracy                           0.73      8800\n",
      "   macro avg       0.73      0.73      0.73      8800\n",
      "weighted avg       0.73      0.73      0.73      8800\n",
      "               precision    recall  f1-score   support\n",
      "\n",
      "           1       0.73      0.76      0.74      2203\n",
      "           2       0.73      0.78      0.76      2205\n",
      "           3       0.73      0.74      0.74      2189\n",
      "           4       0.81      0.70      0.75      2203\n",
      "\n",
      "    accuracy                           0.75      8800\n",
      "   macro avg       0.75      0.75      0.75      8800\n",
      "weighted avg       0.75      0.75      0.75      8800\n",
      "               precision    recall  f1-score   support\n",
      "\n",
      "           1       0.75      0.77      0.76      2224\n",
      "           2       0.75      0.80      0.77      2202\n",
      "           3       0.75      0.77      0.76      2190\n",
      "           4       0.82      0.72      0.76      2184\n",
      "\n",
      "    accuracy                           0.76      8800\n",
      "   macro avg       0.77      0.76      0.76      8800\n",
      "weighted avg       0.77      0.76      0.76      8800\n",
      "\n"
     ]
    }
   ],
   "source": [
    "knn=modelknn_64\n",
    "F1_SVM5=pca_modeling(data_thetha,5,knn)\n",
    "F1_SVM16=pca_modeling(data_thetha,16,knn)\n",
    "F1_SVM32=pca_modeling(data_thetha,32,knn)\n",
    "F1_SVM50=pca_modeling(data_thetha,50,knn)\n",
    "F1_SVM64=pca_modeling(data_thetha,64,knn)\n",
    "print(F1_SVM5,F1_SVM16,F1_SVM32,F1_SVM50,F1_SVM64)"
   ]
  },
  {
   "cell_type": "markdown",
   "metadata": {},
   "source": [
    "### PCA on Alpha for KNN\n"
   ]
  },
  {
   "cell_type": "code",
   "execution_count": 28,
   "metadata": {},
   "outputs": [
    {
     "name": "stdout",
     "output_type": "stream",
     "text": [
      "              precision    recall  f1-score   support\n",
      "\n",
      "           1       0.42      0.44      0.43      2290\n",
      "           2       0.42      0.47      0.45      2102\n",
      "           3       0.49      0.47      0.48      2245\n",
      "           4       0.46      0.39      0.43      2163\n",
      "\n",
      "    accuracy                           0.45      8800\n",
      "   macro avg       0.45      0.45      0.44      8800\n",
      "weighted avg       0.45      0.45      0.45      8800\n",
      "               precision    recall  f1-score   support\n",
      "\n",
      "           1       0.59      0.65      0.62      2260\n",
      "           2       0.61      0.64      0.62      2207\n",
      "           3       0.64      0.63      0.63      2160\n",
      "           4       0.66      0.59      0.63      2173\n",
      "\n",
      "    accuracy                           0.63      8800\n",
      "   macro avg       0.63      0.63      0.63      8800\n",
      "weighted avg       0.63      0.63      0.63      8800\n",
      "               precision    recall  f1-score   support\n",
      "\n",
      "           1       0.68      0.72      0.70      2228\n",
      "           2       0.70      0.73      0.71      2174\n",
      "           3       0.72      0.73      0.73      2193\n",
      "           4       0.77      0.67      0.72      2205\n",
      "\n",
      "    accuracy                           0.71      8800\n",
      "   macro avg       0.72      0.71      0.71      8800\n",
      "weighted avg       0.72      0.71      0.71      8800\n",
      "               precision    recall  f1-score   support\n",
      "\n",
      "           1       0.72      0.77      0.74      2258\n",
      "           2       0.74      0.76      0.75      2175\n",
      "           3       0.76      0.74      0.75      2172\n",
      "           4       0.80      0.72      0.76      2195\n",
      "\n",
      "    accuracy                           0.75      8800\n",
      "   macro avg       0.75      0.75      0.75      8800\n",
      "weighted avg       0.75      0.75      0.75      8800\n",
      "               precision    recall  f1-score   support\n",
      "\n",
      "           1       0.73      0.76      0.75      2190\n",
      "           2       0.73      0.77      0.75      2184\n",
      "           3       0.76      0.76      0.76      2216\n",
      "           4       0.81      0.73      0.76      2210\n",
      "\n",
      "    accuracy                           0.76      8800\n",
      "   macro avg       0.76      0.76      0.76      8800\n",
      "weighted avg       0.76      0.76      0.76      8800\n",
      "\n"
     ]
    }
   ],
   "source": [
    "knn=modelknn_64\n",
    "F1_SVM5=pca_modeling(data_beta,5,knn)\n",
    "F1_SVM16=pca_modeling(data_beta,16,knn)\n",
    "F1_SVM32=pca_modeling(data_beta,32,knn)\n",
    "F1_SVM50=pca_modeling(data_beta,50,knn)\n",
    "F1_SVM64=pca_modeling(data_beta,64,knn)\n",
    "print(F1_SVM5,F1_SVM16,F1_SVM32,F1_SVM50,F1_SVM64)"
   ]
  },
  {
   "cell_type": "markdown",
   "metadata": {},
   "source": [
    "## Random Forest nd Beta band"
   ]
  },
  {
   "cell_type": "code",
   "execution_count": 27,
   "metadata": {},
   "outputs": [
    {
     "name": "stdout",
     "output_type": "stream",
     "text": [
      "              precision    recall  f1-score   support\n",
      "\n",
      "           1       0.45      0.44      0.44      2214\n",
      "           2       0.46      0.48      0.47      2194\n",
      "           3       0.49      0.51      0.50      2209\n",
      "           4       0.45      0.42      0.44      2183\n",
      "\n",
      "    accuracy                           0.46      8800\n",
      "   macro avg       0.46      0.46      0.46      8800\n",
      "weighted avg       0.46      0.46      0.46      8800\n",
      "               precision    recall  f1-score   support\n",
      "\n",
      "           1       0.65      0.62      0.63      2229\n",
      "           2       0.66      0.68      0.67      2243\n",
      "           3       0.68      0.67      0.67      2188\n",
      "           4       0.65      0.66      0.66      2140\n",
      "\n",
      "    accuracy                           0.66      8800\n",
      "   macro avg       0.66      0.66      0.66      8800\n",
      "weighted avg       0.66      0.66      0.66      8800\n",
      "               precision    recall  f1-score   support\n",
      "\n",
      "           1       0.73      0.73      0.73      2230\n",
      "           2       0.72      0.74      0.73      2167\n",
      "           3       0.77      0.73      0.75      2192\n",
      "           4       0.73      0.76      0.74      2211\n",
      "\n",
      "    accuracy                           0.74      8800\n",
      "   macro avg       0.74      0.74      0.74      8800\n",
      "weighted avg       0.74      0.74      0.74      8800\n",
      "               precision    recall  f1-score   support\n",
      "\n",
      "           1       0.76      0.79      0.77      2202\n",
      "           2       0.78      0.78      0.78      2249\n",
      "           3       0.79      0.77      0.78      2200\n",
      "           4       0.78      0.77      0.78      2149\n",
      "\n",
      "    accuracy                           0.78      8800\n",
      "   macro avg       0.78      0.78      0.78      8800\n",
      "weighted avg       0.78      0.78      0.78      8800\n",
      "               precision    recall  f1-score   support\n",
      "\n",
      "           1       0.79      0.82      0.81      2157\n",
      "           2       0.78      0.79      0.78      2205\n",
      "           3       0.81      0.78      0.79      2171\n",
      "           4       0.81      0.80      0.80      2267\n",
      "\n",
      "    accuracy                           0.80      8800\n",
      "   macro avg       0.80      0.80      0.80      8800\n",
      "weighted avg       0.80      0.80      0.80      8800\n",
      "\n"
     ]
    }
   ],
   "source": [
    "rf=modelrf_64\n",
    "F1_SVM5=pca_modeling(data_beta,5,rf)\n",
    "F1_SVM16=pca_modeling(data_beta,16,rf)\n",
    "F1_SVM32=pca_modeling(data_beta,32,rf)\n",
    "F1_SVM50=pca_modeling(data_beta,50,rf)\n",
    "F1_SVM64=pca_modeling(data_beta,64,rf)\n",
    "print(F1_SVM5,F1_SVM16,F1_SVM32,F1_SVM50,F1_SVM64)"
   ]
  },
  {
   "cell_type": "markdown",
   "metadata": {},
   "source": [
    "### Random Forest and Alpha"
   ]
  },
  {
   "cell_type": "code",
   "execution_count": 25,
   "metadata": {},
   "outputs": [
    {
     "name": "stdout",
     "output_type": "stream",
     "text": [
      "              precision    recall  f1-score   support\n",
      "\n",
      "           1       0.43      0.47      0.45      2125\n",
      "           2       0.44      0.45      0.45      2270\n",
      "           3       0.45      0.47      0.46      2143\n",
      "           4       0.43      0.37      0.39      2262\n",
      "\n",
      "    accuracy                           0.44      8800\n",
      "   macro avg       0.44      0.44      0.44      8800\n",
      "weighted avg       0.44      0.44      0.44      8800\n",
      "               precision    recall  f1-score   support\n",
      "\n",
      "           1       0.64      0.65      0.64      2157\n",
      "           2       0.66      0.66      0.66      2274\n",
      "           3       0.66      0.65      0.65      2144\n",
      "           4       0.64      0.64      0.64      2225\n",
      "\n",
      "    accuracy                           0.65      8800\n",
      "   macro avg       0.65      0.65      0.65      8800\n",
      "weighted avg       0.65      0.65      0.65      8800\n",
      "               precision    recall  f1-score   support\n",
      "\n",
      "           1       0.71      0.72      0.71      2134\n",
      "           2       0.72      0.74      0.73      2236\n",
      "           3       0.75      0.72      0.73      2211\n",
      "           4       0.73      0.73      0.73      2219\n",
      "\n",
      "    accuracy                           0.73      8800\n",
      "   macro avg       0.73      0.73      0.73      8800\n",
      "weighted avg       0.73      0.73      0.73      8800\n",
      "               precision    recall  f1-score   support\n",
      "\n",
      "           1       0.79      0.75      0.77      2267\n",
      "           2       0.75      0.79      0.77      2144\n",
      "           3       0.79      0.77      0.78      2242\n",
      "           4       0.76      0.77      0.76      2147\n",
      "\n",
      "    accuracy                           0.77      8800\n",
      "   macro avg       0.77      0.77      0.77      8800\n",
      "weighted avg       0.77      0.77      0.77      8800\n",
      "               precision    recall  f1-score   support\n",
      "\n",
      "           1       0.79      0.80      0.80      2183\n",
      "           2       0.80      0.80      0.80      2190\n",
      "           3       0.82      0.79      0.80      2271\n",
      "           4       0.78      0.80      0.79      2156\n",
      "\n",
      "    accuracy                           0.80      8800\n",
      "   macro avg       0.80      0.80      0.80      8800\n",
      "weighted avg       0.80      0.80      0.80      8800\n",
      "\n"
     ]
    }
   ],
   "source": [
    "rf=modelrf_64\n",
    "F1_SVM5=pca_modeling(data_alpha,5,rf)\n",
    "F1_SVM16=pca_modeling(data_alpha,16,rf)\n",
    "F1_SVM32=pca_modeling(data_alpha,32,rf)\n",
    "F1_SVM50=pca_modeling(data_alpha,50,rf)\n",
    "F1_SVM64=pca_modeling(data_alpha,64,rf)\n",
    "print(F1_SVM5,F1_SVM16,F1_SVM32,F1_SVM50,F1_SVM64)"
   ]
  },
  {
   "cell_type": "markdown",
   "metadata": {},
   "source": [
    "## PCA on stacked band powers for SVM classifier"
   ]
  },
  {
   "cell_type": "code",
   "execution_count": 34,
   "metadata": {},
   "outputs": [
    {
     "name": "stdout",
     "output_type": "stream",
     "text": [
      "              precision    recall  f1-score   support\n",
      "\n",
      "           1       0.48      0.34      0.40      2243\n",
      "           2       0.42      0.49      0.45      2210\n",
      "           3       0.43      0.49      0.46      2225\n",
      "           4       0.42      0.43      0.42      2122\n",
      "\n",
      "    accuracy                           0.44      8800\n",
      "   macro avg       0.44      0.44      0.43      8800\n",
      "weighted avg       0.44      0.44      0.43      8800\n",
      "               precision    recall  f1-score   support\n",
      "\n",
      "           1       0.69      0.65      0.67      2171\n",
      "           2       0.70      0.71      0.71      2237\n",
      "           3       0.70      0.73      0.71      2191\n",
      "           4       0.68      0.68      0.68      2201\n",
      "\n",
      "    accuracy                           0.69      8800\n",
      "   macro avg       0.69      0.69      0.69      8800\n",
      "weighted avg       0.69      0.69      0.69      8800\n",
      "               precision    recall  f1-score   support\n",
      "\n",
      "           1       0.82      0.82      0.82      2230\n",
      "           2       0.82      0.85      0.83      2142\n",
      "           3       0.81      0.84      0.83      2207\n",
      "           4       0.84      0.78      0.81      2221\n",
      "\n",
      "    accuracy                           0.82      8800\n",
      "   macro avg       0.82      0.82      0.82      8800\n",
      "weighted avg       0.82      0.82      0.82      8800\n",
      "               precision    recall  f1-score   support\n",
      "\n",
      "           1       0.84      0.87      0.86      2182\n",
      "           2       0.86      0.88      0.87      2227\n",
      "           3       0.87      0.88      0.88      2184\n",
      "           4       0.89      0.83      0.86      2207\n",
      "\n",
      "    accuracy                           0.87      8800\n",
      "   macro avg       0.87      0.87      0.87      8800\n",
      "weighted avg       0.87      0.87      0.87      8800\n",
      "               precision    recall  f1-score   support\n",
      "\n",
      "           1       0.88      0.89      0.89      2184\n",
      "           2       0.89      0.90      0.89      2259\n",
      "           3       0.89      0.89      0.89      2183\n",
      "           4       0.89      0.87      0.88      2174\n",
      "\n",
      "    accuracy                           0.89      8800\n",
      "   macro avg       0.89      0.89      0.89      8800\n",
      "weighted avg       0.89      0.89      0.89      8800\n",
      "               precision    recall  f1-score   support\n",
      "\n",
      "           1       0.92      0.93      0.93      2233\n",
      "           2       0.93      0.92      0.92      2230\n",
      "           3       0.91      0.92      0.92      2162\n",
      "           4       0.93      0.92      0.92      2175\n",
      "\n",
      "    accuracy                           0.92      8800\n",
      "   macro avg       0.92      0.92      0.92      8800\n",
      "weighted avg       0.92      0.92      0.92      8800\n",
      "               precision    recall  f1-score   support\n",
      "\n",
      "           1       0.93      0.94      0.94      2243\n",
      "           2       0.95      0.94      0.94      2237\n",
      "           3       0.93      0.94      0.93      2200\n",
      "           4       0.94      0.93      0.93      2120\n",
      "\n",
      "    accuracy                           0.94      8800\n",
      "   macro avg       0.94      0.94      0.94      8800\n",
      "weighted avg       0.94      0.94      0.94      8800\n",
      "\n"
     ]
    }
   ],
   "source": [
    "modelsvmstack=modelsvm192\n",
    "F1_SVM5=pca_modeling(data_stack,5,modelsvmstack)\n",
    "F1_SVM16=pca_modeling(data_stack,16,modelsvmstack)\n",
    "F1_SVM32=pca_modeling(data_stack,32,modelsvmstack)\n",
    "F1_SVM50=pca_modeling(data_stack,50,modelsvmstack)\n",
    "F1_SVM64=pca_modeling(data_stack,64,modelsvmstack)\n",
    "F1_SVM128=pca_modeling(data_stack,128,modelsvmstack)\n",
    "F1_SVM192=pca_modeling(data_stack,192,modelsvmstack)\n",
    "print(F1_SVM5,F1_SVM16,F1_SVM32,F1_SVM50,F1_SVM64,F1_SVM128,F1_SVM192)"
   ]
  },
  {
   "cell_type": "markdown",
   "metadata": {},
   "source": [
    "## PCA on stacked band for KNN "
   ]
  },
  {
   "cell_type": "code",
   "execution_count": 35,
   "metadata": {},
   "outputs": [
    {
     "name": "stdout",
     "output_type": "stream",
     "text": [
      "              precision    recall  f1-score   support\n",
      "\n",
      "           1       0.44      0.49      0.47      2217\n",
      "           2       0.47      0.50      0.49      2189\n",
      "           3       0.51      0.50      0.51      2175\n",
      "           4       0.48      0.41      0.44      2219\n",
      "\n",
      "    accuracy                           0.47      8800\n",
      "   macro avg       0.48      0.47      0.47      8800\n",
      "weighted avg       0.48      0.47      0.47      8800\n",
      "               precision    recall  f1-score   support\n",
      "\n",
      "           1       0.62      0.72      0.67      2149\n",
      "           2       0.67      0.67      0.67      2193\n",
      "           3       0.74      0.70      0.72      2246\n",
      "           4       0.70      0.62      0.66      2212\n",
      "\n",
      "    accuracy                           0.68      8800\n",
      "   macro avg       0.68      0.68      0.68      8800\n",
      "weighted avg       0.68      0.68      0.68      8800\n",
      "               precision    recall  f1-score   support\n",
      "\n",
      "           1       0.73      0.79      0.76      2268\n",
      "           2       0.77      0.79      0.78      2205\n",
      "           3       0.81      0.77      0.79      2186\n",
      "           4       0.78      0.73      0.75      2141\n",
      "\n",
      "    accuracy                           0.77      8800\n",
      "   macro avg       0.77      0.77      0.77      8800\n",
      "weighted avg       0.77      0.77      0.77      8800\n",
      "               precision    recall  f1-score   support\n",
      "\n",
      "           1       0.76      0.82      0.79      2203\n",
      "           2       0.81      0.80      0.81      2231\n",
      "           3       0.83      0.81      0.82      2193\n",
      "           4       0.82      0.78      0.80      2173\n",
      "\n",
      "    accuracy                           0.80      8800\n",
      "   macro avg       0.80      0.80      0.80      8800\n",
      "weighted avg       0.80      0.80      0.80      8800\n",
      "               precision    recall  f1-score   support\n",
      "\n",
      "           1       0.78      0.84      0.81      2151\n",
      "           2       0.82      0.83      0.82      2177\n",
      "           3       0.85      0.82      0.83      2240\n",
      "           4       0.84      0.79      0.82      2232\n",
      "\n",
      "    accuracy                           0.82      8800\n",
      "   macro avg       0.82      0.82      0.82      8800\n",
      "weighted avg       0.82      0.82      0.82      8800\n",
      "               precision    recall  f1-score   support\n",
      "\n",
      "           1       0.81      0.87      0.84      2160\n",
      "           2       0.84      0.86      0.85      2215\n",
      "           3       0.87      0.84      0.85      2227\n",
      "           4       0.87      0.82      0.84      2198\n",
      "\n",
      "    accuracy                           0.85      8800\n",
      "   macro avg       0.85      0.85      0.85      8800\n",
      "weighted avg       0.85      0.85      0.85      8800\n",
      "               precision    recall  f1-score   support\n",
      "\n",
      "           1       0.82      0.89      0.85      2158\n",
      "           2       0.87      0.87      0.87      2326\n",
      "           3       0.88      0.85      0.86      2125\n",
      "           4       0.88      0.83      0.85      2191\n",
      "\n",
      "    accuracy                           0.86      8800\n",
      "   macro avg       0.86      0.86      0.86      8800\n",
      "weighted avg       0.86      0.86      0.86      8800\n",
      "\n"
     ]
    }
   ],
   "source": [
    "modelknnstack=modelknn_192\n",
    "F1_SVM5=pca_modeling(data_stack,5,modelknnstack)\n",
    "F1_SVM16=pca_modeling(data_stack,16,modelknnstack)\n",
    "F1_SVM32=pca_modeling(data_stack,32,modelknnstack)\n",
    "F1_SVM50=pca_modeling(data_stack,50,modelknnstack)\n",
    "F1_SVM64=pca_modeling(data_stack,64,modelknnstack)\n",
    "F1_SVM128=pca_modeling(data_stack,128,modelknnstack)\n",
    "F1_SVM192=pca_modeling(data_stack,192,modelknnstack)\n",
    "print(F1_SVM5,F1_SVM16,F1_SVM32,F1_SVM50,F1_SVM64,F1_SVM128,F1_SVM192)"
   ]
  },
  {
   "cell_type": "markdown",
   "metadata": {},
   "source": [
    "## PCA on stacked band for Random Forest"
   ]
  },
  {
   "cell_type": "code",
   "execution_count": 36,
   "metadata": {},
   "outputs": [
    {
     "name": "stdout",
     "output_type": "stream",
     "text": [
      "              precision    recall  f1-score   support\n",
      "\n",
      "           1       0.47      0.46      0.46      2202\n",
      "           2       0.49      0.50      0.50      2215\n",
      "           3       0.53      0.52      0.52      2171\n",
      "           4       0.47      0.47      0.47      2212\n",
      "\n",
      "    accuracy                           0.49      8800\n",
      "   macro avg       0.49      0.49      0.49      8800\n",
      "weighted avg       0.49      0.49      0.49      8800\n",
      "               precision    recall  f1-score   support\n",
      "\n",
      "           1       0.69      0.67      0.68      2152\n",
      "           2       0.69      0.71      0.70      2220\n",
      "           3       0.73      0.73      0.73      2263\n",
      "           4       0.68      0.69      0.69      2165\n",
      "\n",
      "    accuracy                           0.70      8800\n",
      "   macro avg       0.70      0.70      0.70      8800\n",
      "weighted avg       0.70      0.70      0.70      8800\n",
      "               precision    recall  f1-score   support\n",
      "\n",
      "           1       0.77      0.76      0.77      2128\n",
      "           2       0.76      0.78      0.77      2258\n",
      "           3       0.80      0.79      0.79      2237\n",
      "           4       0.76      0.75      0.76      2177\n",
      "\n",
      "    accuracy                           0.77      8800\n",
      "   macro avg       0.77      0.77      0.77      8800\n",
      "weighted avg       0.77      0.77      0.77      8800\n",
      "               precision    recall  f1-score   support\n",
      "\n",
      "           1       0.82      0.80      0.81      2175\n",
      "           2       0.82      0.82      0.82      2200\n",
      "           3       0.82      0.83      0.83      2202\n",
      "           4       0.80      0.80      0.80      2223\n",
      "\n",
      "    accuracy                           0.81      8800\n",
      "   macro avg       0.81      0.81      0.81      8800\n",
      "weighted avg       0.81      0.81      0.81      8800\n",
      "               precision    recall  f1-score   support\n",
      "\n",
      "           1       0.86      0.83      0.84      2230\n",
      "           2       0.82      0.87      0.84      2137\n",
      "           3       0.85      0.84      0.84      2182\n",
      "           4       0.83      0.82      0.83      2251\n",
      "\n",
      "    accuracy                           0.84      8800\n",
      "   macro avg       0.84      0.84      0.84      8800\n",
      "weighted avg       0.84      0.84      0.84      8800\n",
      "               precision    recall  f1-score   support\n",
      "\n",
      "           1       0.89      0.88      0.89      2167\n",
      "           2       0.87      0.89      0.88      2195\n",
      "           3       0.89      0.87      0.88      2234\n",
      "           4       0.88      0.88      0.88      2204\n",
      "\n",
      "    accuracy                           0.88      8800\n",
      "   macro avg       0.88      0.88      0.88      8800\n",
      "weighted avg       0.88      0.88      0.88      8800\n",
      "               precision    recall  f1-score   support\n",
      "\n",
      "           1       0.91      0.91      0.91      2189\n",
      "           2       0.92      0.93      0.92      2238\n",
      "           3       0.90      0.90      0.90      2185\n",
      "           4       0.91      0.91      0.91      2188\n",
      "\n",
      "    accuracy                           0.91      8800\n",
      "   macro avg       0.91      0.91      0.91      8800\n",
      "weighted avg       0.91      0.91      0.91      8800\n",
      "\n"
     ]
    }
   ],
   "source": [
    "modelrfstack=modelrf_192\n",
    "F1_SVM5=pca_modeling(data_stack,5,modelrfstack)\n",
    "F1_SVM16=pca_modeling(data_stack,16,modelrfstack)\n",
    "F1_SVM32=pca_modeling(data_stack,32,modelrfstack)\n",
    "F1_SVM50=pca_modeling(data_stack,50,modelrfstack)\n",
    "F1_SVM64=pca_modeling(data_stack,64,modelrfstack)\n",
    "F1_SVM128=pca_modeling(data_stack,128,modelrfstack)\n",
    "F1_SVM192=pca_modeling(data_stack,192,modelrfstack)\n",
    "print(F1_SVM5,F1_SVM16,F1_SVM32,F1_SVM50,F1_SVM64,F1_SVM128,F1_SVM192)"
   ]
  }
 ],
 "metadata": {
  "kernelspec": {
   "display_name": "Python 3",
   "language": "python",
   "name": "python3"
  },
  "language_info": {
   "codemirror_mode": {
    "name": "ipython",
    "version": 3
   },
   "file_extension": ".py",
   "mimetype": "text/x-python",
   "name": "python",
   "nbconvert_exporter": "python",
   "pygments_lexer": "ipython3",
   "version": "3.7.6"
  }
 },
 "nbformat": 4,
 "nbformat_minor": 4
}
